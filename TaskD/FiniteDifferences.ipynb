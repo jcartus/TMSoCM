{
 "cells": [
  {
   "cell_type": "code",
   "execution_count": 1,
   "metadata": {},
   "outputs": [],
   "source": [
    "import numpy as np\n",
    "import matplotlib.pyplot as plt\n",
    "\n",
    "plt.style.use(\"seaborn\")"
   ]
  },
  {
   "cell_type": "markdown",
   "metadata": {},
   "source": [
    "# Fetch PES Points "
   ]
  },
  {
   "cell_type": "code",
   "execution_count": 43,
   "metadata": {},
   "outputs": [],
   "source": [
    "path = \"../TaskC/pes.tab\"\n",
    "\n",
    "r = []\n",
    "E_HF = []\n",
    "E_CCSDT = []\n",
    "\n",
    "with open(path, \"r\") as f:\n",
    "    for line in f:\n",
    "        try:\n",
    "            splits = list(map(float, line.split()))\n",
    "\n",
    "            r.append(splits[0])\n",
    "            E_HF.append(splits[1])\n",
    "            E_CCSDT.append(splits[2])\n",
    "        except:\n",
    "            pass\n",
    "        \n",
    "#r = np.asarray(r)\n",
    "E_HF = np.asarray(E_HF)\n",
    "E_CCSDT = np.asarray(E_CCSDT)"
   ]
  },
  {
   "cell_type": "code",
   "execution_count": 48,
   "metadata": {},
   "outputs": [
    {
     "data": {
      "text/plain": [
       "[0.4,\n",
       " 0.45517241379310347,\n",
       " 0.5103448275862069,\n",
       " 0.5655172413793104,\n",
       " 0.6206896551724138,\n",
       " 0.6758620689655173,\n",
       " 0.7310344827586208,\n",
       " 0.7862068965517242,\n",
       " 0.8413793103448277,\n",
       " 0.896551724137931,\n",
       " 0.9517241379310346,\n",
       " 1.0068965517241382,\n",
       " 1.0620689655172415,\n",
       " 1.1172413793103448,\n",
       " 1.1724137931034484,\n",
       " 1.227586206896552,\n",
       " 1.2827586206896553,\n",
       " 1.3379310344827586,\n",
       " 1.3931034482758622,\n",
       " 1.4482758620689657,\n",
       " 1.5034482758620693,\n",
       " 1.5586206896551724,\n",
       " 1.613793103448276,\n",
       " 1.6689655172413795,\n",
       " 1.724137931034483,\n",
       " 1.7793103448275862,\n",
       " 1.8344827586206898,\n",
       " 1.8896551724137933,\n",
       " 1.9448275862068969,\n",
       " 2.0]"
      ]
     },
     "execution_count": 48,
     "metadata": {},
     "output_type": "execute_result"
    }
   ],
   "source": [
    "list(np.linspace(0.4, 2,30))"
   ]
  },
  {
   "cell_type": "markdown",
   "metadata": {},
   "source": [
    "# Display PES "
   ]
  },
  {
   "cell_type": "code",
   "execution_count": 46,
   "metadata": {},
   "outputs": [
    {
     "data": {
      "text/plain": [
       "[<matplotlib.lines.Line2D at 0x7f57c6b2e7b8>]"
      ]
     },
     "execution_count": 46,
     "metadata": {},
     "output_type": "execute_result"
    },
    {
     "data": {
      "image/png": "[encoded data removed]",
      "text/plain": [
       "<matplotlib.figure.Figure at 0x7f57c6b2e6a0>"
      ]
     },
     "metadata": {},
     "output_type": "display_data"
    }
   ],
   "source": [
    "plt.plot(r, E_HF, label=\"HF\")\n",
    "plt.plot(r, E_CCSDT, label=\"CCSDT\")"
   ]
  },
  {
   "cell_type": "code",
   "execution_count": null,
   "metadata": {},
   "outputs": [],
   "source": []
  }
 ],
 "metadata": {
  "kernelspec": {
   "display_name": "Python 3",
   "language": "python",
   "name": "python3"
  },
  "language_info": {
   "codemirror_mode": {
    "name": "ipython",
    "version": 3
   },
   "file_extension": ".py",
   "mimetype": "text/x-python",
   "name": "python",
   "nbconvert_exporter": "python",
   "pygments_lexer": "ipython3",
   "version": "3.6.4"
  }
 },
 "nbformat": 4,
 "nbformat_minor": 2
}
