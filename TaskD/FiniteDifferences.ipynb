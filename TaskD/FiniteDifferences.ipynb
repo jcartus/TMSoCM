{
 "cells": [
  {
   "cell_type": "code",
   "execution_count": 1,
   "metadata": {},
   "outputs": [],
   "source": [
    "import numpy as np\n",
    "import matplotlib.pyplot as plt\n",
    "\n",
    "plt.style.use(\"seaborn\")"
   ]
  },
  {
   "cell_type": "markdown",
   "metadata": {},
   "source": [
    "# Fetch PES Points "
   ]
  },
  {
   "cell_type": "code",
   "execution_count": 2,
   "metadata": {},
   "outputs": [],
   "source": [
    "path = \"../TaskC/pes.tab\"\n",
    "\n",
    "r = []\n",
    "E_HF = []\n",
    "E_CCSDT = []\n",
    "\n",
    "with open(path, \"r\") as f:\n",
    "    for line in f:\n",
    "        try:\n",
    "            splits = list(map(float, line.split()))\n",
    "\n",
    "            r.append(splits[0])\n",
    "            E_HF.append(splits[1])\n",
    "            E_CCSDT.append(splits[2])\n",
    "        except:\n",
    "            pass\n",
    "        \n",
    "#r = np.asarray(r)\n",
    "E_HF = np.asarray(E_HF)\n",
    "E_CCSDT = np.asarray(E_CCSDT)"
   ]
  },
  {
   "cell_type": "markdown",
   "metadata": {},
   "source": [
    "# Display PES "
   ]
  },
  {
   "cell_type": "code",
   "execution_count": 3,
   "metadata": {},
   "outputs": [
    {
     "data": {
      "text/plain": [
       "<matplotlib.legend.Legend at 0x7f31316a3da0>"
      ]
     },
     "execution_count": 3,
     "metadata": {},
     "output_type": "execute_result"
    },
    {
     "data": {
      "image/png": "[encoded data removed]",
      "text/plain": [
       "<matplotlib.figure.Figure at 0x7f3139bd1898>"
      ]
     },
     "metadata": {},
     "output_type": "display_data"
    }
   ],
   "source": [
    "plt.plot(r, E_HF, label=\"HF\")\n",
    "plt.plot(r, E_CCSDT, label=\"CCSDT\")\n",
    "\n",
    "plt.xlabel(\"R / $\\AA$\")\n",
    "plt.ylabel(\"Energy / AU\")\n",
    "\n",
    "plt.legend()"
   ]
  },
  {
   "cell_type": "markdown",
   "metadata": {},
   "source": [
    "# Make Hamiltonian "
   ]
  },
  {
   "cell_type": "code",
   "execution_count": 4,
   "metadata": {},
   "outputs": [],
   "source": [
    "N = len(r)"
   ]
  },
  {
   "cell_type": "code",
   "execution_count": 10,
   "metadata": {},
   "outputs": [],
   "source": [
    "from scipy.constants import physical_constants\n",
    "\n",
    "# TODO units should be in AU!!\n",
    "u = physical_constants[\"atomic mass constant\"][0]\n",
    "\n",
    "m_C = 12 * u\n",
    "m_O = 16 * u"
   ]
  },
  {
   "cell_type": "markdown",
   "metadata": {},
   "source": [
    "## Kinetic Term"
   ]
  },
  {
   "cell_type": "code",
   "execution_count": 6,
   "metadata": {},
   "outputs": [],
   "source": [
    "from scipy.constants import hbar\n",
    "\n",
    "mu = m_C * m_O / (m_C + m_O)\n",
    "\n",
    "P = hbar**2 / (2 * mu) * (\n",
    "    np.diag(2 * np.ones(N)) + \\\n",
    "    np.diag(-1 * np.ones(N-1), -1) + \\\n",
    "    np.diag(-1 * np.ones(N-1), +1)\n",
    ")\n",
    "    "
   ]
  },
  {
   "cell_type": "markdown",
   "metadata": {},
   "source": [
    "## Potential Term "
   ]
  },
  {
   "cell_type": "code",
   "execution_count": 8,
   "metadata": {},
   "outputs": [],
   "source": [
    "U_HF = np.diag(E_HF)\n",
    "U_CCSDT = np.diag(E_CCSDT)"
   ]
  },
  {
   "cell_type": "markdown",
   "metadata": {},
   "source": [
    "## H = P + U "
   ]
  },
  {
   "cell_type": "code",
   "execution_count": 9,
   "metadata": {},
   "outputs": [],
   "source": [
    "H_HF = P + U_HF\n",
    "H_CCSDT = P + U_CCSDT"
   ]
  },
  {
   "cell_type": "markdown",
   "metadata": {},
   "source": [
    "#  Solve Finite Differences Equations\n",
    "\n",
    "\n",
    "Eigenvalueproblem: $\\hat{H} |\\psi\\rangle = E |\\psi\\rangle$\n",
    "\n",
    "Finite differences: $\\psi = \\{\\psi_1, \\psi_2, \\ldots, \\psi_n\\}$"
   ]
  },
  {
   "cell_type": "markdown",
   "metadata": {},
   "source": [
    "## HF "
   ]
  },
  {
   "cell_type": "code",
   "execution_count": 13,
   "metadata": {},
   "outputs": [],
   "source": [
    "E, psi = np.linalg.eigh(H_HF)"
   ]
  },
  {
   "cell_type": "code",
   "execution_count": 14,
   "metadata": {},
   "outputs": [
    {
     "name": "stdout",
     "output_type": "stream",
     "text": [
      "[-112.7498623 -112.7319612 -112.7071334 -112.6839472 -112.6228493\n",
      " -112.558298  -112.5480291 -112.4958807 -112.1689211]\n"
     ]
    }
   ],
   "source": [
    "print(E)"
   ]
  },
  {
   "cell_type": "markdown",
   "metadata": {},
   "source": [
    "## CCSD(T) "
   ]
  },
  {
   "cell_type": "code",
   "execution_count": 15,
   "metadata": {},
   "outputs": [],
   "source": [
    "E, psi = np.linalg.eigh(H_CCSDT)"
   ]
  },
  {
   "cell_type": "code",
   "execution_count": 16,
   "metadata": {},
   "outputs": [
    {
     "name": "stdout",
     "output_type": "stream",
     "text": [
      "[-113.050259  -113.0492333 -113.0187939 -112.9912775 -112.9758902\n",
      " -112.9298781 -112.8858382 -112.8162797 -112.4210545]\n"
     ]
    }
   ],
   "source": [
    "print(E)"
   ]
  },
  {
   "cell_type": "code",
   "execution_count": null,
   "metadata": {},
   "outputs": [],
   "source": []
  }
 ],
 "metadata": {
  "kernelspec": {
   "display_name": "Python 3",
   "language": "python",
   "name": "python3"
  },
  "language_info": {
   "codemirror_mode": {
    "name": "ipython",
    "version": 3
   },
   "file_extension": ".py",
   "mimetype": "text/x-python",
   "name": "python",
   "nbconvert_exporter": "python",
   "pygments_lexer": "ipython3",
   "version": "3.6.4"
  }
 },
 "nbformat": 4,
 "nbformat_minor": 2
}
