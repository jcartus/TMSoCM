{
 "cells": [
  {
   "cell_type": "code",
   "execution_count": 1,
   "metadata": {},
   "outputs": [],
   "source": [
    "import numpy as np\n",
    "import matplotlib.pyplot as plt\n",
    "\n",
    "plt.style.use(\"seaborn\")"
   ]
  },
  {
   "cell_type": "markdown",
   "metadata": {},
   "source": [
    "# Fetch PES Points "
   ]
  },
  {
   "cell_type": "code",
   "execution_count": 2,
   "metadata": {},
   "outputs": [],
   "source": [
    "path = \"../TaskC/pes.tab\"\n",
    "\n",
    "r = []\n",
    "E_HF = []\n",
    "E_CCSDT = []\n",
    "\n",
    "with open(path, \"r\") as f:\n",
    "    for line in f:\n",
    "        try:\n",
    "            splits = list(map(float, line.split()))\n",
    "\n",
    "            r.append(splits[0])\n",
    "            E_HF.append(splits[1])\n",
    "            E_CCSDT.append(splits[2])\n",
    "        except:\n",
    "            pass\n",
    "        \n",
    "#r = np.asarray(r)\n",
    "E_HF = np.asarray(E_HF)\n",
    "E_CCSDT = np.asarray(E_CCSDT)"
   ]
  },
  {
   "cell_type": "markdown",
   "metadata": {},
   "source": [
    "# Display PES "
   ]
  },
  {
   "cell_type": "code",
   "execution_count": 3,
   "metadata": {
    "scrolled": false
   },
   "outputs": [
    {
     "data": {
      "text/plain": [
       "<matplotlib.legend.Legend at 0x7f71d4b10cc0>"
      ]
     },
     "execution_count": 3,
     "metadata": {},
     "output_type": "execute_result"
    },
    {
     "data": {
      "image/png": "[encoded data removed]",
      "text/plain": [
       "<matplotlib.figure.Figure at 0x7f71d587b940>"
      ]
     },
     "metadata": {},
     "output_type": "display_data"
    }
   ],
   "source": [
    "plt.plot(r, E_HF, label=\"HF\")\n",
    "plt.plot(r, E_CCSDT, label=\"CCSD(T)\")\n",
    "\n",
    "plt.xlabel(\"R / $\\AA$\")\n",
    "plt.ylabel(\"Energy / AU\")\n",
    "\n",
    "plt.legend()"
   ]
  },
  {
   "cell_type": "markdown",
   "metadata": {},
   "source": [
    "# Make Hamiltonian "
   ]
  },
  {
   "cell_type": "code",
   "execution_count": 4,
   "metadata": {},
   "outputs": [],
   "source": [
    "N = len(r)"
   ]
  },
  {
   "cell_type": "code",
   "execution_count": 5,
   "metadata": {},
   "outputs": [],
   "source": [
    "from scipy.constants import physical_constants\n",
    "\n",
    "# TODO units should be in AU!!\n",
    "u = physical_constants[\"atomic mass constant\"][0]\n",
    "\n",
    "m_C = 12 * u\n",
    "m_O = 16 * u"
   ]
  },
  {
   "cell_type": "markdown",
   "metadata": {},
   "source": [
    "## Kinetic Term"
   ]
  },
  {
   "cell_type": "code",
   "execution_count": 6,
   "metadata": {},
   "outputs": [],
   "source": [
    "from scipy.constants import hbar\n",
    "\n",
    "mu = m_C * m_O / (m_C + m_O)\n",
    "\n",
    "P = hbar**2 / (2 * mu) * (\n",
    "    np.diag(2 * np.ones(N)) + \\\n",
    "    np.diag(-1 * np.ones(N-1), -1) + \\\n",
    "    np.diag(-1 * np.ones(N-1), +1)\n",
    ")\n",
    "    "
   ]
  },
  {
   "cell_type": "markdown",
   "metadata": {},
   "source": [
    "## Potential Term "
   ]
  },
  {
   "cell_type": "code",
   "execution_count": 7,
   "metadata": {},
   "outputs": [],
   "source": [
    "U_HF = np.diag(E_HF)\n",
    "U_CCSDT = np.diag(E_CCSDT)"
   ]
  },
  {
   "cell_type": "markdown",
   "metadata": {},
   "source": [
    "## H = P + U "
   ]
  },
  {
   "cell_type": "code",
   "execution_count": 8,
   "metadata": {},
   "outputs": [],
   "source": [
    "H_HF = P + U_HF\n",
    "H_CCSDT = P + U_CCSDT"
   ]
  },
  {
   "cell_type": "markdown",
   "metadata": {},
   "source": [
    "#  Solve Finite Differences Equations\n",
    "\n",
    "\n",
    "Eigenvalueproblem: $\\hat{H} |\\psi\\rangle = E |\\psi\\rangle$\n",
    "\n",
    "Finite differences: $\\psi = \\{\\psi_1, \\psi_2, \\ldots, \\psi_n\\}$"
   ]
  },
  {
   "cell_type": "markdown",
   "metadata": {},
   "source": [
    "## HF "
   ]
  },
  {
   "cell_type": "code",
   "execution_count": 9,
   "metadata": {},
   "outputs": [],
   "source": [
    "E, psi = np.linalg.eigh(H_HF)"
   ]
  },
  {
   "cell_type": "code",
   "execution_count": 10,
   "metadata": {},
   "outputs": [
    {
     "name": "stdout",
     "output_type": "stream",
     "text": [
      "[-112.7897833 -112.7891021 -112.7794602 -112.7731646 -112.7613337\n",
      " -112.7378148 -112.7363152 -112.710719  -112.6814123 -112.6710166\n",
      " -112.6509219 -112.620022  -112.5893026 -112.5672012 -112.559227\n",
      " -112.530183  -112.5025331 -112.4766579 -112.4529701 -112.431844\n",
      " -112.4113859 -112.1854613 -111.8650383 -111.4172164 -110.7976877\n",
      " -109.9472908 -108.7886199 -107.2245782 -105.1445829 -102.4607974]\n"
     ]
    }
   ],
   "source": [
    "print(E)"
   ]
  },
  {
   "cell_type": "markdown",
   "metadata": {},
   "source": [
    "## CCSD(T) "
   ]
  },
  {
   "cell_type": "code",
   "execution_count": 11,
   "metadata": {},
   "outputs": [],
   "source": [
    "E, psi = np.linalg.eigh(H_CCSDT)"
   ]
  },
  {
   "cell_type": "code",
   "execution_count": 12,
   "metadata": {},
   "outputs": [
    {
     "name": "stdout",
     "output_type": "stream",
     "text": [
      "[-113.1923723 -113.1892052 -113.1848325 -113.1785083 -113.1626656\n",
      " -113.1623561 -113.1434601 -113.1222183 -113.1193108 -113.0999189\n",
      " -113.0772766 -113.0548083 -113.0481871 -113.0328901 -113.0118097\n",
      " -112.9918366 -112.9733303 -112.9568885 -112.9433636 -112.9389524\n",
      " -112.7781714 -112.5478023 -112.2235534 -111.7726656 -111.1510415\n",
      " -110.299849  -109.142235  -107.5821021 -105.5110634 -102.8445797]\n"
     ]
    }
   ],
   "source": [
    "print(E)"
   ]
  },
  {
   "cell_type": "code",
   "execution_count": null,
   "metadata": {},
   "outputs": [],
   "source": []
  }
 ],
 "metadata": {
  "kernelspec": {
   "display_name": "Python 3",
   "language": "python",
   "name": "python3"
  },
  "language_info": {
   "codemirror_mode": {
    "name": "ipython",
    "version": 3
   },
   "file_extension": ".py",
   "mimetype": "text/x-python",
   "name": "python",
   "nbconvert_exporter": "python",
   "pygments_lexer": "ipython3",
   "version": "3.6.4"
  }
 },
 "nbformat": 4,
 "nbformat_minor": 2
}
